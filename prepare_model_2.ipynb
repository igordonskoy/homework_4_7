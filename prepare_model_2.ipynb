{
 "cells": [
  {
   "cell_type": "markdown",
   "id": "eb199a05",
   "metadata": {
    "id": "eb199a05"
   },
   "source": [
    "# Подготовка модели распознавания рукописных букв и\n",
    "\n",
    "1.   Новый пункт\n",
    "2.   Новый пункт\n",
    "\n",
    "цифр\n",
    "\n",
    "Вам предстоит самостоятельно обучить модель для задачи распознавания рукописных букв и цифр с помощью датасета `emnist`. Результатом должна быть обученная модель, сохранённая в файл `model.pkl`.\n",
    "\n",
    "Можете воспользоваться предложенным порядком действий и подсказками из этого ноутбука или подойти к решению задачи самостоятельно и написать всё с нуля. То же касается и процесса упаковки модели в сервис для распознавания самостоятельно написанных символов.\n",
    "\n",
    "В этом ноутбуке комментариями и символами `...` отмечены места для вашего кода.\n",
    "\n",
    "Перед отправкой решения убедитесь, что все ячейки ноутбука выполняются последовательно без ошибок, если запустить `Kernel -> Restart & Run All`.\n",
    "\n",
    "Успехов!\n",
    "\n",
    "### 1. Установите и импортируйте необходимые библиотеки"
   ]
  },
  {
   "cell_type": "code",
   "execution_count": null,
   "id": "9abed783",
   "metadata": {
    "colab": {
     "base_uri": "https://localhost:8080/"
    },
    "id": "9abed783",
    "outputId": "f8ea8c0b-d11b-4ad4-95dd-1c15ccaad82b",
    "scrolled": true
   },
   "outputs": [
    {
     "name": "stdout",
     "output_type": "stream",
     "text": [
      "Collecting emnist\n",
      "  Downloading emnist-0.0-py3-none-any.whl (7.3 kB)\n",
      "Requirement already satisfied: numpy in /usr/local/lib/python3.10/dist-packages (from emnist) (1.25.2)\n",
      "Requirement already satisfied: requests in /usr/local/lib/python3.10/dist-packages (from emnist) (2.31.0)\n",
      "Requirement already satisfied: tqdm in /usr/local/lib/python3.10/dist-packages (from emnist) (4.66.2)\n",
      "Requirement already satisfied: charset-normalizer<4,>=2 in /usr/local/lib/python3.10/dist-packages (from requests->emnist) (3.3.2)\n",
      "Requirement already satisfied: idna<4,>=2.5 in /usr/local/lib/python3.10/dist-packages (from requests->emnist) (3.6)\n",
      "Requirement already satisfied: urllib3<3,>=1.21.1 in /usr/local/lib/python3.10/dist-packages (from requests->emnist) (2.0.7)\n",
      "Requirement already satisfied: certifi>=2017.4.17 in /usr/local/lib/python3.10/dist-packages (from requests->emnist) (2024.2.2)\n",
      "Installing collected packages: emnist\n",
      "Successfully installed emnist-0.0\n"
     ]
    }
   ],
   "source": [
    "!pip install emnist\n",
    "# your pip installs here"
   ]
  },
  {
   "cell_type": "code",
   "execution_count": 2,
   "id": "99ac860b",
   "metadata": {
    "id": "99ac860b"
   },
   "outputs": [],
   "source": [
    "import os\n",
    "import pickle\n",
    "#try:\n",
    "#    import emnist\n",
    "#except:\n",
    "#    !pip install emnist\n",
    "# your imports here\n",
    "\n",
    "import numpy as np\n",
    "import pandas as pd\n",
    "import matplotlib.pyplot as plt\n",
    "import seaborn\n",
    "from sklearn.linear_model import LogisticRegression\n",
    "from sklearn.metrics import confusion_matrix, accuracy_score\n",
    "\n",
    "#from google.colab import drive"
   ]
  },
  {
   "cell_type": "markdown",
   "id": "dcf2e1da",
   "metadata": {
    "id": "dcf2e1da"
   },
   "source": [
    "### 2. Загрузите датасет и проанализируйте его\n",
    "\n",
    "Датасет в качестве лейблов (или таргетов) содержит числа от 0 до 46. Каждому числу соответствует ASCII-код некоторого символа. Пары «лейбл — код» хранятся в файле `emnist-balanced-mapping.txt`.\n",
    "Выведите на экран количество семплов в каждом сплите датасета и размер изображений. Также для каждого лейбла выведите соответствующий ему символ и количество тренировочных семплов, приходящееся на него.\n",
    "Посмотрите на несколько примеров изображений.\n",
    "\n",
    "_Подсказка: чтобы получить символ из ASCII-кода, нужно воспользоваться функцией_ `chr()`. _Для вашего удобства можно построить словарь_ (`dict`) _соответствий._"
   ]
  },
  {
   "cell_type": "code",
   "execution_count": null,
   "id": "W_tgru5mljA6",
   "metadata": {
    "colab": {
     "base_uri": "https://localhost:8080/"
    },
    "id": "W_tgru5mljA6",
    "outputId": "42879b52-f3da-4906-f048-5c6724215afd"
   },
   "outputs": [
    {
     "name": "stdout",
     "output_type": "stream",
     "text": [
      "Mounted at /content/drive\n"
     ]
    }
   ],
   "source": [
    "\n",
    "drive.mount('/content/drive')\n",
    "!unzip drive/MyDrive/archive.zip"
   ]
  },
  {
   "cell_type": "code",
   "execution_count": 11,
   "id": "5ad33b57-d3b6-436b-84c6-c1c28b67b338",
   "metadata": {},
   "outputs": [
    {
     "name": "stdout",
     "output_type": "stream",
     "text": [
      " Том в устройстве C имеет метку Acer\n",
      " Серийный номер тома: 2A5F-C2E3\n",
      "\n",
      " Содержимое папки C:\\Users\\yoxno\\Skillbox\\practice_comp_vision\n",
      "\n",
      "01.04.2024  19:56    <DIR>          .\n",
      "01.04.2024  19:39    <DIR>          ..\n",
      "19.03.2024  20:34             8 196 .DS_Store\n",
      "19.03.2024  20:34                50 .gitignore\n",
      "01.04.2024  19:40    <DIR>          .ipynb_checkpoints\n",
      "26.03.2024  19:51     1 330 183 464 archive.zip\n",
      "19.03.2024  20:34               302 Dockerfile\n",
      "19.03.2024  20:34               328 emnist-balanced-mapping.txt\n",
      "19.03.2024  20:34        33 029 583 emnist.zip\n",
      "19.03.2024  20:34    <DIR>          gzip\n",
      "19.03.2024  20:34    <DIR>          myapp\n",
      "31.03.2024  17:13            14 249 prepare_model.ipynb\n",
      "01.04.2024  19:56           140 205 prepare_model_2.ipynb\n",
      "19.03.2024  20:34             1 035 README.md\n",
      "19.03.2024  20:34                58 requirements.txt\n",
      "19.03.2024  20:34    <DIR>          static\n",
      "              10 файлов  1 363 377 470 байт\n",
      "               6 папок  117 576 187 904 байт свободно\n"
     ]
    }
   ],
   "source": [
    "!dir"
   ]
  },
  {
   "cell_type": "code",
   "execution_count": 9,
   "id": "v_4xdhFwnrQm",
   "metadata": {
    "colab": {
     "base_uri": "https://localhost:8080/"
    },
    "id": "v_4xdhFwnrQm",
    "outputId": "b5115df6-5298-44f4-803c-7173be5bdf23"
   },
   "outputs": [
    {
     "name": "stderr",
     "output_type": "stream",
     "text": [
      "\"unzip\" не является внутренней или внешней\n",
      "командой, исполняемой программой или пакетным файлом.\n"
     ]
    }
   ],
   "source": [
    "!unzip archive.zip"
   ]
  },
  {
   "cell_type": "code",
   "execution_count": 13,
   "id": "0af8bbbd-fa1f-4ce3-9779-98d2262bb385",
   "metadata": {},
   "outputs": [],
   "source": [
    "!tar -xf archive.zip"
   ]
  },
  {
   "cell_type": "code",
   "execution_count": 14,
   "id": "fiLDJdg5pfl_",
   "metadata": {
    "colab": {
     "base_uri": "https://localhost:8080/"
    },
    "id": "fiLDJdg5pfl_",
    "outputId": "6f02c075-cce7-4cc4-d7e9-5cb2d82c81ee"
   },
   "outputs": [
    {
     "data": {
      "text/plain": [
       "{'0': '48',\n",
       " '1': '49',\n",
       " '2': '50',\n",
       " '3': '51',\n",
       " '4': '52',\n",
       " '5': '53',\n",
       " '6': '54',\n",
       " '7': '55',\n",
       " '8': '56',\n",
       " '9': '57',\n",
       " '10': '65',\n",
       " '11': '66',\n",
       " '12': '67',\n",
       " '13': '68',\n",
       " '14': '69',\n",
       " '15': '70',\n",
       " '16': '71',\n",
       " '17': '72',\n",
       " '18': '73',\n",
       " '19': '74',\n",
       " '20': '75',\n",
       " '21': '76',\n",
       " '22': '77',\n",
       " '23': '78',\n",
       " '24': '79',\n",
       " '25': '80',\n",
       " '26': '81',\n",
       " '27': '82',\n",
       " '28': '83',\n",
       " '29': '84',\n",
       " '30': '85',\n",
       " '31': '86',\n",
       " '32': '87',\n",
       " '33': '88',\n",
       " '34': '89',\n",
       " '35': '90',\n",
       " '36': '97',\n",
       " '37': '98',\n",
       " '38': '100',\n",
       " '39': '101',\n",
       " '40': '102',\n",
       " '41': '103',\n",
       " '42': '104',\n",
       " '43': '110',\n",
       " '44': '113',\n",
       " '45': '114',\n",
       " '46': '116'}"
      ]
     },
     "execution_count": 14,
     "metadata": {},
     "output_type": "execute_result"
    }
   ],
   "source": [
    "file_text = 'emnist-balanced-mapping.txt'\n",
    "\n",
    "with open(file_text, 'r') as f:\n",
    "    a = f.readlines()\n",
    "\n",
    "label_dict = dict()\n",
    "for elem in a:\n",
    "    b = elem.split()\n",
    "    label_dict[b[0]] = b[1]\n",
    "\n",
    "label_dict"
   ]
  },
  {
   "cell_type": "code",
   "execution_count": 15,
   "id": "9l6mUWQsIfQk",
   "metadata": {
    "id": "9l6mUWQsIfQk"
   },
   "outputs": [],
   "source": [
    "df_train = pd.read_csv('emnist-balanced-train.csv', header=None)\n",
    "\n",
    "df_test = pd.read_csv('emnist-balanced-test.csv', header=None)\n"
   ]
  },
  {
   "cell_type": "code",
   "execution_count": 16,
   "id": "xfhoo2yGIxbk",
   "metadata": {
    "colab": {
     "base_uri": "https://localhost:8080/",
     "height": 235
    },
    "id": "xfhoo2yGIxbk",
    "outputId": "afb0c101-edaf-4826-d5f0-b54add8bb10c"
   },
   "outputs": [
    {
     "data": {
      "text/html": [
       "<div>\n",
       "<style scoped>\n",
       "    .dataframe tbody tr th:only-of-type {\n",
       "        vertical-align: middle;\n",
       "    }\n",
       "\n",
       "    .dataframe tbody tr th {\n",
       "        vertical-align: top;\n",
       "    }\n",
       "\n",
       "    .dataframe thead th {\n",
       "        text-align: right;\n",
       "    }\n",
       "</style>\n",
       "<table border=\"1\" class=\"dataframe\">\n",
       "  <thead>\n",
       "    <tr style=\"text-align: right;\">\n",
       "      <th></th>\n",
       "      <th>0</th>\n",
       "      <th>1</th>\n",
       "      <th>2</th>\n",
       "      <th>3</th>\n",
       "      <th>4</th>\n",
       "      <th>5</th>\n",
       "      <th>6</th>\n",
       "      <th>7</th>\n",
       "      <th>8</th>\n",
       "      <th>9</th>\n",
       "      <th>...</th>\n",
       "      <th>775</th>\n",
       "      <th>776</th>\n",
       "      <th>777</th>\n",
       "      <th>778</th>\n",
       "      <th>779</th>\n",
       "      <th>780</th>\n",
       "      <th>781</th>\n",
       "      <th>782</th>\n",
       "      <th>783</th>\n",
       "      <th>784</th>\n",
       "    </tr>\n",
       "  </thead>\n",
       "  <tbody>\n",
       "    <tr>\n",
       "      <th>0</th>\n",
       "      <td>45</td>\n",
       "      <td>0</td>\n",
       "      <td>0</td>\n",
       "      <td>0</td>\n",
       "      <td>0</td>\n",
       "      <td>0</td>\n",
       "      <td>0</td>\n",
       "      <td>0</td>\n",
       "      <td>0</td>\n",
       "      <td>0</td>\n",
       "      <td>...</td>\n",
       "      <td>0</td>\n",
       "      <td>0</td>\n",
       "      <td>0</td>\n",
       "      <td>0</td>\n",
       "      <td>0</td>\n",
       "      <td>0</td>\n",
       "      <td>0</td>\n",
       "      <td>0</td>\n",
       "      <td>0</td>\n",
       "      <td>0</td>\n",
       "    </tr>\n",
       "    <tr>\n",
       "      <th>1</th>\n",
       "      <td>36</td>\n",
       "      <td>0</td>\n",
       "      <td>0</td>\n",
       "      <td>0</td>\n",
       "      <td>0</td>\n",
       "      <td>0</td>\n",
       "      <td>0</td>\n",
       "      <td>0</td>\n",
       "      <td>0</td>\n",
       "      <td>0</td>\n",
       "      <td>...</td>\n",
       "      <td>0</td>\n",
       "      <td>0</td>\n",
       "      <td>0</td>\n",
       "      <td>0</td>\n",
       "      <td>0</td>\n",
       "      <td>0</td>\n",
       "      <td>0</td>\n",
       "      <td>0</td>\n",
       "      <td>0</td>\n",
       "      <td>0</td>\n",
       "    </tr>\n",
       "    <tr>\n",
       "      <th>2</th>\n",
       "      <td>43</td>\n",
       "      <td>0</td>\n",
       "      <td>0</td>\n",
       "      <td>0</td>\n",
       "      <td>0</td>\n",
       "      <td>0</td>\n",
       "      <td>0</td>\n",
       "      <td>0</td>\n",
       "      <td>0</td>\n",
       "      <td>0</td>\n",
       "      <td>...</td>\n",
       "      <td>0</td>\n",
       "      <td>0</td>\n",
       "      <td>0</td>\n",
       "      <td>0</td>\n",
       "      <td>0</td>\n",
       "      <td>0</td>\n",
       "      <td>0</td>\n",
       "      <td>0</td>\n",
       "      <td>0</td>\n",
       "      <td>0</td>\n",
       "    </tr>\n",
       "    <tr>\n",
       "      <th>3</th>\n",
       "      <td>15</td>\n",
       "      <td>0</td>\n",
       "      <td>0</td>\n",
       "      <td>0</td>\n",
       "      <td>0</td>\n",
       "      <td>0</td>\n",
       "      <td>0</td>\n",
       "      <td>0</td>\n",
       "      <td>0</td>\n",
       "      <td>0</td>\n",
       "      <td>...</td>\n",
       "      <td>0</td>\n",
       "      <td>0</td>\n",
       "      <td>0</td>\n",
       "      <td>0</td>\n",
       "      <td>0</td>\n",
       "      <td>0</td>\n",
       "      <td>0</td>\n",
       "      <td>0</td>\n",
       "      <td>0</td>\n",
       "      <td>0</td>\n",
       "    </tr>\n",
       "    <tr>\n",
       "      <th>4</th>\n",
       "      <td>4</td>\n",
       "      <td>0</td>\n",
       "      <td>0</td>\n",
       "      <td>0</td>\n",
       "      <td>0</td>\n",
       "      <td>0</td>\n",
       "      <td>0</td>\n",
       "      <td>0</td>\n",
       "      <td>0</td>\n",
       "      <td>0</td>\n",
       "      <td>...</td>\n",
       "      <td>0</td>\n",
       "      <td>0</td>\n",
       "      <td>0</td>\n",
       "      <td>0</td>\n",
       "      <td>0</td>\n",
       "      <td>0</td>\n",
       "      <td>0</td>\n",
       "      <td>0</td>\n",
       "      <td>0</td>\n",
       "      <td>0</td>\n",
       "    </tr>\n",
       "  </tbody>\n",
       "</table>\n",
       "<p>5 rows × 785 columns</p>\n",
       "</div>"
      ],
      "text/plain": [
       "   0    1    2    3    4    5    6    7    8    9    ...  775  776  777  778  \\\n",
       "0   45    0    0    0    0    0    0    0    0    0  ...    0    0    0    0   \n",
       "1   36    0    0    0    0    0    0    0    0    0  ...    0    0    0    0   \n",
       "2   43    0    0    0    0    0    0    0    0    0  ...    0    0    0    0   \n",
       "3   15    0    0    0    0    0    0    0    0    0  ...    0    0    0    0   \n",
       "4    4    0    0    0    0    0    0    0    0    0  ...    0    0    0    0   \n",
       "\n",
       "   779  780  781  782  783  784  \n",
       "0    0    0    0    0    0    0  \n",
       "1    0    0    0    0    0    0  \n",
       "2    0    0    0    0    0    0  \n",
       "3    0    0    0    0    0    0  \n",
       "4    0    0    0    0    0    0  \n",
       "\n",
       "[5 rows x 785 columns]"
      ]
     },
     "execution_count": 16,
     "metadata": {},
     "output_type": "execute_result"
    }
   ],
   "source": [
    "df_train.head()"
   ]
  },
  {
   "cell_type": "code",
   "execution_count": 17,
   "id": "kMTUfyuYvzI0",
   "metadata": {
    "colab": {
     "base_uri": "https://localhost:8080/",
     "height": 1000
    },
    "id": "kMTUfyuYvzI0",
    "outputId": "12a8aefc-9143-481d-c43f-41f54231221e"
   },
   "outputs": [
    {
     "data": {
      "image/png": "[encoded data removed]",
      "text/plain": [
       "<Figure size 640x480 with 3 Axes>"
      ]
     },
     "metadata": {},
     "output_type": "display_data"
    },
    {
     "data": {
      "image/png": "[encoded data removed]",
      "text/plain": [
       "<Figure size 640x480 with 3 Axes>"
      ]
     },
     "metadata": {},
     "output_type": "display_data"
    },
    {
     "data": {
      "image/png": "[encoded data removed]",
      "text/plain": [
       "<Figure size 640x480 with 3 Axes>"
      ]
     },
     "metadata": {},
     "output_type": "display_data"
    },
    {
     "data": {
      "image/png": "[encoded data removed]",
      "text/plain": [
       "<Figure size 640x480 with 3 Axes>"
      ]
     },
     "metadata": {},
     "output_type": "display_data"
    },
    {
     "data": {
      "image/png": "[encoded data removed]",
      "text/plain": [
       "<Figure size 640x480 with 3 Axes>"
      ]
     },
     "metadata": {},
     "output_type": "display_data"
    }
   ],
   "source": [
    "# your code here\n",
    "\n",
    "N_labels = 5\n",
    "random_labels = np.random.choice(np.array(list(label_dict.keys())), N_labels)\n",
    "\n",
    "N_examples = 3\n",
    "\n",
    "for label in random_labels:\n",
    "    df_train_label = df_train.loc[df_train.iloc[:,0] == int(label)]\n",
    "    ind = np.random.choice(range(df_train_label.shape[1]), N_examples)\n",
    "    fig, ax = plt.subplots(1, N_examples)\n",
    "    for i in range(N_examples):\n",
    "        ax[i].imshow(np.transpose(np.array(df_train_label.iloc[ind[i],1:]).reshape(28, 28)))\n",
    "        ax[i].set_title(chr(int(label_dict[label])))\n",
    "\n"
   ]
  },
  {
   "cell_type": "code",
   "execution_count": 19,
   "id": "_CbWEVIMGlpw",
   "metadata": {
    "colab": {
     "base_uri": "https://localhost:8080/"
    },
    "id": "_CbWEVIMGlpw",
    "outputId": "d0b96fe5-412f-4575-e023-f47ee1b24b68"
   },
   "outputs": [
    {
     "name": "stdout",
     "output_type": "stream",
     "text": [
      "Train: 112800 samples\n",
      "Test: 18800 samples\n",
      "Image size: 784\n"
     ]
    }
   ],
   "source": [
    "\n",
    "images_train, labels_train = df_train.iloc[:,1:], df_train.iloc[:,0]\n",
    "images_test, labels_test = df_test.iloc[:,1:], df_test.iloc[:,0]\n",
    "print(f'Train: {labels_train.shape[0]} samples')\n",
    "print(f'Test: {labels_test.shape[0]} samples')\n",
    "print(f'Image size: {images_test.shape[1]}')"
   ]
  },
  {
   "cell_type": "markdown",
   "id": "44aa75fc",
   "metadata": {
    "id": "44aa75fc"
   },
   "source": [
    "### 3. Подготовьте датасет для обучения и валидации\n",
    "\n",
    "_Подсказка: чтобы вытянуть изображения в вектор, понадобится метод_ `reshape` _из библиотеки_ `numpy`."
   ]
  },
  {
   "cell_type": "code",
   "execution_count": 20,
   "id": "59e4e4e1",
   "metadata": {
    "colab": {
     "base_uri": "https://localhost:8080/"
    },
    "id": "59e4e4e1",
    "outputId": "f6029c18-6d88-4a34-b423-57d564b04ce1"
   },
   "outputs": [
    {
     "name": "stdout",
     "output_type": "stream",
     "text": [
      "Train: (112800, 784)\n",
      "Test: (18800, 784)\n"
     ]
    }
   ],
   "source": [
    "X_train = images_train\n",
    "y_train = labels_train\n",
    "X_test = images_test\n",
    "y_test = labels_test\n",
    "\n",
    "print('Train:', X_train.shape)\n",
    "print('Test:', X_test.shape)"
   ]
  },
  {
   "cell_type": "code",
   "execution_count": 21,
   "id": "37_aBOElWiFQ",
   "metadata": {
    "colab": {
     "base_uri": "https://localhost:8080/"
    },
    "id": "37_aBOElWiFQ",
    "outputId": "32fe34f7-375a-475a-8437-831be2de78f4"
   },
   "outputs": [
    {
     "name": "stdout",
     "output_type": "stream",
     "text": [
      "Train: (112800,)\n",
      "Test: (18800,)\n"
     ]
    }
   ],
   "source": [
    "print('Train:', y_train.shape)\n",
    "print('Test:', y_test.shape)"
   ]
  },
  {
   "cell_type": "markdown",
   "id": "018140da",
   "metadata": {
    "id": "018140da"
   },
   "source": [
    "### 4. Выберите модель, обучите её, протестируйте и сохраните\n",
    "\n",
    "Выведите на экран точность вашей модели. Выведите и проанализируйте матрицу ошибок. Какие два символа она чаще всего путает? На каком символе модель чаще всего ошибается?"
   ]
  },
  {
   "cell_type": "code",
   "execution_count": 22,
   "id": "WDkzE0H_VSiU",
   "metadata": {
    "id": "WDkzE0H_VSiU"
   },
   "outputs": [],
   "source": [
    "from sklearn.model_selection import GridSearchCV"
   ]
  },
  {
   "cell_type": "code",
   "execution_count": 23,
   "id": "U32QVbwhidPt",
   "metadata": {
    "id": "U32QVbwhidPt"
   },
   "outputs": [],
   "source": [
    "classifier = LogisticRegression()\n",
    "\n",
    "param_grid = {\n",
    "    'max_iter': [100, 200,],\n",
    "    'C': [0.1, 0.3, 1, 3, 10]\n",
    "}\n",
    "\n",
    "searcher = GridSearchCV(classifier, param_grid, cv=3, scoring='accuracy', n_jobs=-1, verbose=2)"
   ]
  },
  {
   "cell_type": "code",
   "execution_count": 24,
   "id": "EPUvd8KGi1Qr",
   "metadata": {
    "colab": {
     "base_uri": "https://localhost:8080/"
    },
    "id": "EPUvd8KGi1Qr",
    "outputId": "a96a57a5-970a-4564-e047-3cd533c34b73"
   },
   "outputs": [
    {
     "name": "stdout",
     "output_type": "stream",
     "text": [
      "Fitting 3 folds for each of 20 candidates, totalling 60 fits\n",
      "0.6847606382978723\n",
      "{'C': 10, 'max_iter': 100}\n"
     ]
    },
    {
     "name": "stderr",
     "output_type": "stream",
     "text": [
      "C:\\Users\\yoxno\\anaconda3\\Lib\\site-packages\\sklearn\\linear_model\\_logistic.py:458: ConvergenceWarning: lbfgs failed to converge (status=1):\n",
      "STOP: TOTAL NO. of ITERATIONS REACHED LIMIT.\n",
      "\n",
      "Increase the number of iterations (max_iter) or scale the data as shown in:\n",
      "    https://scikit-learn.org/stable/modules/preprocessing.html\n",
      "Please also refer to the documentation for alternative solver options:\n",
      "    https://scikit-learn.org/stable/modules/linear_model.html#logistic-regression\n",
      "  n_iter_i = _check_optimize_result(\n"
     ]
    }
   ],
   "source": [
    "searcher.fit(X_train, y_train)\n",
    "\n",
    "print(searcher.best_score_)\n",
    "\n",
    "print(searcher.best_params_)\n"
   ]
  },
  {
   "cell_type": "code",
   "execution_count": 25,
   "id": "6a0e5239",
   "metadata": {
    "colab": {
     "base_uri": "https://localhost:8080/"
    },
    "id": "6a0e5239",
    "outputId": "b85299b7-c354-4132-f6fe-3d86bb3ccefc"
   },
   "outputs": [
    {
     "name": "stderr",
     "output_type": "stream",
     "text": [
      "C:\\Users\\yoxno\\anaconda3\\Lib\\site-packages\\sklearn\\linear_model\\_logistic.py:458: ConvergenceWarning: lbfgs failed to converge (status=1):\n",
      "STOP: TOTAL NO. of ITERATIONS REACHED LIMIT.\n",
      "\n",
      "Increase the number of iterations (max_iter) or scale the data as shown in:\n",
      "    https://scikit-learn.org/stable/modules/preprocessing.html\n",
      "Please also refer to the documentation for alternative solver options:\n",
      "    https://scikit-learn.org/stable/modules/linear_model.html#logistic-regression\n",
      "  n_iter_i = _check_optimize_result(\n"
     ]
    },
    {
     "name": "stdout",
     "output_type": "stream",
     "text": [
      "Train data\n",
      "Accuracy 0.7145301418439717\n",
      "Conf matrix [[1620    0    0 ...    4    0    6]\n",
      " [   0 1485    2 ...    4   10   22]\n",
      " [   3    2 1762 ...    6    1    1]\n",
      " ...\n",
      " [   4   12    8 ...  833   11   84]\n",
      " [   1    2    0 ...    1 1967   53]\n",
      " [   5   11    6 ...   15   68 1433]]\n",
      "Test data\n",
      "Accuracy 0.6878723404255319\n",
      "Conf matrix [[276   0   0 ...   0   1   1]\n",
      " [  0 240   0 ...   2   2   3]\n",
      " [  0   0 291 ...   1   0   0]\n",
      " ...\n",
      " [  0   0   0 ... 111   1  14]\n",
      " [  0   0   0 ...   1 313   5]\n",
      " [  1   5   1 ...   4   8 226]]\n"
     ]
    }
   ],
   "source": [
    "clf = searcher.best_estimator_\n",
    "\n",
    "clf.fit(X_train, y_train)\n",
    "\n",
    "y_train_pred = clf.predict(X_train)\n",
    "\n",
    "y_test_pred = clf.predict(X_test)\n",
    "\n",
    "print('Train data')\n",
    "print(f'Accuracy {accuracy_score(y_train, y_train_pred)}')\n",
    "print(f'Conf matrix {confusion_matrix(y_train, y_train_pred)}')\n",
    "\n",
    "print('Test data')\n",
    "print(f'Accuracy {accuracy_score(y_test, y_test_pred)}')\n",
    "print(f'Conf matrix {confusion_matrix(y_test, y_test_pred)}')\n",
    "\n",
    "\n",
    "\n",
    "# your code here"
   ]
  },
  {
   "cell_type": "code",
   "execution_count": 26,
   "id": "Di9xa-22kMtG",
   "metadata": {
    "colab": {
     "base_uri": "https://localhost:8080/",
     "height": 454
    },
    "id": "Di9xa-22kMtG",
    "outputId": "d87a5b43-7c11-4f94-f761-9a5b15b6d542"
   },
   "outputs": [
    {
     "data": {
      "text/plain": [
       "<Axes: >"
      ]
     },
     "execution_count": 26,
     "metadata": {},
     "output_type": "execute_result"
    },
    {
     "data": {
      "image/png": "[encoded data removed]",
      "text/plain": [
       "<Figure size 640x480 with 2 Axes>"
      ]
     },
     "metadata": {},
     "output_type": "display_data"
    }
   ],
   "source": [
    "seaborn.heatmap(confusion_matrix(y_test, y_test_pred))"
   ]
  },
  {
   "cell_type": "code",
   "execution_count": 27,
   "id": "xhpKGkSYwqzk",
   "metadata": {
    "colab": {
     "base_uri": "https://localhost:8080/"
    },
    "id": "xhpKGkSYwqzk",
    "outputId": "7b49b8d7-ce16-4438-a04e-5d3f4b430d93"
   },
   "outputs": [
    {
     "data": {
      "text/plain": [
       "array([[276,   0,   0, ...,   0,   1,   1],\n",
       "       [  0, 240,   0, ...,   2,   2,   3],\n",
       "       [  0,   0, 291, ...,   1,   0,   0],\n",
       "       ...,\n",
       "       [  0,   0,   0, ..., 111,   1,  14],\n",
       "       [  0,   0,   0, ...,   1, 313,   5],\n",
       "       [  1,   5,   1, ...,   4,   8, 226]], dtype=int64)"
      ]
     },
     "execution_count": 27,
     "metadata": {},
     "output_type": "execute_result"
    }
   ],
   "source": [
    "confusion_matrix(y_test, y_test_pred)"
   ]
  },
  {
   "cell_type": "code",
   "execution_count": 28,
   "id": "e66ef38a",
   "metadata": {
    "id": "e66ef38a"
   },
   "outputs": [],
   "source": [
    "with open(os.path.join('myapp', 'model.pkl'),'wb') as f:\n",
    "    pickle.dump(clf, f)"
   ]
  },
  {
   "cell_type": "code",
   "execution_count": null,
   "id": "y3KOksWhw0je",
   "metadata": {
    "id": "y3KOksWhw0je"
   },
   "outputs": [],
   "source": []
  }
 ],
 "metadata": {
  "colab": {
   "provenance": []
  },
  "kernelspec": {
   "display_name": "Python 3 (ipykernel)",
   "language": "python",
   "name": "python3"
  },
  "language_info": {
   "codemirror_mode": {
    "name": "ipython",
    "version": 3
   },
   "file_extension": ".py",
   "mimetype": "text/x-python",
   "name": "python",
   "nbconvert_exporter": "python",
   "pygments_lexer": "ipython3",
   "version": "3.11.7"
  }
 },
 "nbformat": 4,
 "nbformat_minor": 5
}
