{
 "cells": [
  {
   "cell_type": "markdown",
   "id": "eb199a05",
   "metadata": {
    "id": "eb199a05"
   },
   "source": [
    "# Подготовка модели распознавания рукописных букв и цифр\n",
    "\n",
    "Вам предстоит самостоятельно обучить модель для задачи распознавания рукописных букв и цифр с помощью датасета `emnist`. Результатом должна быть обученная модель, сохранённая в файл `model.pkl`.\n",
    "\n",
    "Можете воспользоваться предложенным порядком действий и подсказками из этого ноутбука или подойти к решению задачи самостоятельно и написать всё с нуля. То же касается и процесса упаковки модели в сервис для распознавания самостоятельно написанных символов.\n",
    "\n",
    "В этом ноутбуке комментариями и символами `...` отмечены места для вашего кода.\n",
    "\n",
    "Перед отправкой решения убедитесь, что все ячейки ноутбука выполняются последовательно без ошибок, если запустить `Kernel -> Restart & Run All`.\n",
    "\n",
    "Успехов!\n",
    "\n",
    "### 1. Установите и импортируйте необходимые библиотеки"
   ]
  },
  {
   "cell_type": "code",
   "execution_count": 1,
   "id": "9abed783",
   "metadata": {
    "id": "9abed783",
    "scrolled": true
   },
   "outputs": [
    {
     "name": "stdout",
     "output_type": "stream",
     "text": [
      "Collecting emnist\n",
      "  Downloading emnist-0.0-py3-none-any.whl.metadata (3.7 kB)\n",
      "Requirement already satisfied: numpy in c:\\users\\yoxno\\anaconda3\\lib\\site-packages (from emnist) (1.26.4)\n",
      "Requirement already satisfied: requests in c:\\users\\yoxno\\anaconda3\\lib\\site-packages (from emnist) (2.31.0)\n",
      "Requirement already satisfied: tqdm in c:\\users\\yoxno\\anaconda3\\lib\\site-packages (from emnist) (4.65.0)\n",
      "Requirement already satisfied: charset-normalizer<4,>=2 in c:\\users\\yoxno\\anaconda3\\lib\\site-packages (from requests->emnist) (2.0.4)\n",
      "Requirement already satisfied: idna<4,>=2.5 in c:\\users\\yoxno\\anaconda3\\lib\\site-packages (from requests->emnist) (3.4)\n",
      "Requirement already satisfied: urllib3<3,>=1.21.1 in c:\\users\\yoxno\\anaconda3\\lib\\site-packages (from requests->emnist) (2.0.7)\n",
      "Requirement already satisfied: certifi>=2017.4.17 in c:\\users\\yoxno\\anaconda3\\lib\\site-packages (from requests->emnist) (2024.2.2)\n",
      "Requirement already satisfied: colorama in c:\\users\\yoxno\\anaconda3\\lib\\site-packages (from tqdm->emnist) (0.4.6)\n",
      "Downloading emnist-0.0-py3-none-any.whl (7.3 kB)\n",
      "Installing collected packages: emnist\n",
      "Successfully installed emnist-0.0\n"
     ]
    }
   ],
   "source": [
    "!pip install emnist\n",
    "# your pip installs here"
   ]
  },
  {
   "cell_type": "code",
   "execution_count": 2,
   "id": "99ac860b",
   "metadata": {
    "id": "99ac860b"
   },
   "outputs": [],
   "source": [
    "import os\n",
    "import pickle\n",
    "import emnist\n",
    "# your imports here"
   ]
  },
  {
   "cell_type": "markdown",
   "id": "dcf2e1da",
   "metadata": {
    "id": "dcf2e1da"
   },
   "source": [
    "### 2. Загрузите датасет и проанализируйте его\n",
    "\n",
    "Датасет в качестве лейблов (или таргетов) содержит числа от 0 до 46. Каждому числу соответствует ASCII-код некоторого символа. Пары «лейбл — код» хранятся в файле `emnist-balanced-mapping.txt`.\n",
    "Выведите на экран количество семплов в каждом сплите датасета и размер изображений. Также для каждого лейбла выведите соответствующий ему символ и количество тренировочных семплов, приходящееся на него.\n",
    "Посмотрите на несколько примеров изображений.\n",
    "\n",
    "_Подсказка: чтобы получить символ из ASCII-кода, нужно воспользоваться функцией_ `chr()`. _Для вашего удобства можно построить словарь_ (`dict`) _соответствий._"
   ]
  },
  {
   "cell_type": "code",
   "execution_count": 3,
   "id": "cb5035ba",
   "metadata": {
    "id": "cb5035ba"
   },
   "outputs": [
    {
     "ename": "BadZipFile",
     "evalue": "File is not a zip file",
     "output_type": "error",
     "traceback": [
      "\u001b[1;31m---------------------------------------------------------------------------\u001b[0m",
      "\u001b[1;31mBadZipFile\u001b[0m                                Traceback (most recent call last)",
      "Cell \u001b[1;32mIn[3], line 1\u001b[0m\n\u001b[1;32m----> 1\u001b[0m images_train, labels_train \u001b[38;5;241m=\u001b[39m emnist\u001b[38;5;241m.\u001b[39mextract_training_samples(\u001b[38;5;124m'\u001b[39m\u001b[38;5;124mbalanced\u001b[39m\u001b[38;5;124m'\u001b[39m)\n\u001b[0;32m      2\u001b[0m images_test, labels_test \u001b[38;5;241m=\u001b[39m emnist\u001b[38;5;241m.\u001b[39mextract_test_samples(\u001b[38;5;124m'\u001b[39m\u001b[38;5;124mbalanced\u001b[39m\u001b[38;5;124m'\u001b[39m)\n\u001b[0;32m      3\u001b[0m \u001b[38;5;28mprint\u001b[39m(\u001b[38;5;124mf\u001b[39m\u001b[38;5;124m'\u001b[39m\u001b[38;5;124mTrain: \u001b[39m\u001b[38;5;132;01m{\u001b[39;00m\u001b[38;5;241m.\u001b[39m\u001b[38;5;241m.\u001b[39m\u001b[38;5;241m.\u001b[39m\u001b[38;5;132;01m}\u001b[39;00m\u001b[38;5;124m samples\u001b[39m\u001b[38;5;124m'\u001b[39m)\n",
      "File \u001b[1;32m~\\anaconda3\\Lib\\site-packages\\emnist\\__init__.py:209\u001b[0m, in \u001b[0;36mextract_training_samples\u001b[1;34m(dataset)\u001b[0m\n\u001b[0;32m    206\u001b[0m \u001b[38;5;28;01mdef\u001b[39;00m \u001b[38;5;21mextract_training_samples\u001b[39m(dataset):\n\u001b[0;32m    207\u001b[0m \u001b[38;5;250m    \u001b[39m\u001b[38;5;124;03m\"\"\"Extract the training samples for a given dataset as a pair of numpy arrays, (images, labels). The dataset must be\u001b[39;00m\n\u001b[0;32m    208\u001b[0m \u001b[38;5;124;03m    one of those listed by list_datasets(), e.g. 'digits' or 'mnist'.\"\"\"\u001b[39;00m\n\u001b[1;32m--> 209\u001b[0m     \u001b[38;5;28;01mreturn\u001b[39;00m extract_samples(dataset, \u001b[38;5;124m'\u001b[39m\u001b[38;5;124mtrain\u001b[39m\u001b[38;5;124m'\u001b[39m)\n",
      "File \u001b[1;32m~\\anaconda3\\Lib\\site-packages\\emnist\\__init__.py:199\u001b[0m, in \u001b[0;36mextract_samples\u001b[1;34m(dataset, usage)\u001b[0m\n\u001b[0;32m    196\u001b[0m \u001b[38;5;28;01mdef\u001b[39;00m \u001b[38;5;21mextract_samples\u001b[39m(dataset, usage):\n\u001b[0;32m    197\u001b[0m \u001b[38;5;250m    \u001b[39m\u001b[38;5;124;03m\"\"\"Extract the samples for a given dataset and usage as a pair of numpy arrays, (images, labels). The dataset must\u001b[39;00m\n\u001b[0;32m    198\u001b[0m \u001b[38;5;124;03m    be one of those listed by list_datasets(), e.g. 'digits' or 'mnist'. Usage should be either 'train' or 'test'.\"\"\"\u001b[39;00m\n\u001b[1;32m--> 199\u001b[0m     images \u001b[38;5;241m=\u001b[39m extract_data(dataset, usage, \u001b[38;5;124m'\u001b[39m\u001b[38;5;124mimages\u001b[39m\u001b[38;5;124m'\u001b[39m)\n\u001b[0;32m    200\u001b[0m     labels \u001b[38;5;241m=\u001b[39m extract_data(dataset, usage, \u001b[38;5;124m'\u001b[39m\u001b[38;5;124mlabels\u001b[39m\u001b[38;5;124m'\u001b[39m)\n\u001b[0;32m    201\u001b[0m     \u001b[38;5;28;01mif\u001b[39;00m \u001b[38;5;28mlen\u001b[39m(images) \u001b[38;5;241m!=\u001b[39m \u001b[38;5;28mlen\u001b[39m(labels):\n",
      "File \u001b[1;32m~\\anaconda3\\Lib\\site-packages\\emnist\\__init__.py:185\u001b[0m, in \u001b[0;36mextract_data\u001b[1;34m(dataset, usage, component)\u001b[0m\n\u001b[0;32m    183\u001b[0m cache_path \u001b[38;5;241m=\u001b[39m get_cached_data_path()\n\u001b[0;32m    184\u001b[0m zip_internal_path \u001b[38;5;241m=\u001b[39m ZIP_PATH_TEMPLATE\u001b[38;5;241m.\u001b[39mformat(dataset\u001b[38;5;241m=\u001b[39mdataset, usage\u001b[38;5;241m=\u001b[39musage, matrix\u001b[38;5;241m=\u001b[39mcomponent, dim\u001b[38;5;241m=\u001b[39mdim)\n\u001b[1;32m--> 185\u001b[0m \u001b[38;5;28;01mwith\u001b[39;00m zipfile\u001b[38;5;241m.\u001b[39mZipFile(cache_path) \u001b[38;5;28;01mas\u001b[39;00m zf:\n\u001b[0;32m    186\u001b[0m     compressed_data \u001b[38;5;241m=\u001b[39m zf\u001b[38;5;241m.\u001b[39mread(zip_internal_path)\n\u001b[0;32m    187\u001b[0m data \u001b[38;5;241m=\u001b[39m gzip\u001b[38;5;241m.\u001b[39mdecompress(compressed_data)\n",
      "File \u001b[1;32m~\\anaconda3\\Lib\\zipfile.py:1302\u001b[0m, in \u001b[0;36mZipFile.__init__\u001b[1;34m(self, file, mode, compression, allowZip64, compresslevel, strict_timestamps, metadata_encoding)\u001b[0m\n\u001b[0;32m   1300\u001b[0m \u001b[38;5;28;01mtry\u001b[39;00m:\n\u001b[0;32m   1301\u001b[0m     \u001b[38;5;28;01mif\u001b[39;00m mode \u001b[38;5;241m==\u001b[39m \u001b[38;5;124m'\u001b[39m\u001b[38;5;124mr\u001b[39m\u001b[38;5;124m'\u001b[39m:\n\u001b[1;32m-> 1302\u001b[0m         \u001b[38;5;28mself\u001b[39m\u001b[38;5;241m.\u001b[39m_RealGetContents()\n\u001b[0;32m   1303\u001b[0m     \u001b[38;5;28;01melif\u001b[39;00m mode \u001b[38;5;129;01min\u001b[39;00m (\u001b[38;5;124m'\u001b[39m\u001b[38;5;124mw\u001b[39m\u001b[38;5;124m'\u001b[39m, \u001b[38;5;124m'\u001b[39m\u001b[38;5;124mx\u001b[39m\u001b[38;5;124m'\u001b[39m):\n\u001b[0;32m   1304\u001b[0m         \u001b[38;5;66;03m# set the modified flag so central directory gets written\u001b[39;00m\n\u001b[0;32m   1305\u001b[0m         \u001b[38;5;66;03m# even if no files are added to the archive\u001b[39;00m\n\u001b[0;32m   1306\u001b[0m         \u001b[38;5;28mself\u001b[39m\u001b[38;5;241m.\u001b[39m_didModify \u001b[38;5;241m=\u001b[39m \u001b[38;5;28;01mTrue\u001b[39;00m\n",
      "File \u001b[1;32m~\\anaconda3\\Lib\\zipfile.py:1369\u001b[0m, in \u001b[0;36mZipFile._RealGetContents\u001b[1;34m(self)\u001b[0m\n\u001b[0;32m   1367\u001b[0m     \u001b[38;5;28;01mraise\u001b[39;00m BadZipFile(\u001b[38;5;124m\"\u001b[39m\u001b[38;5;124mFile is not a zip file\u001b[39m\u001b[38;5;124m\"\u001b[39m)\n\u001b[0;32m   1368\u001b[0m \u001b[38;5;28;01mif\u001b[39;00m \u001b[38;5;129;01mnot\u001b[39;00m endrec:\n\u001b[1;32m-> 1369\u001b[0m     \u001b[38;5;28;01mraise\u001b[39;00m BadZipFile(\u001b[38;5;124m\"\u001b[39m\u001b[38;5;124mFile is not a zip file\u001b[39m\u001b[38;5;124m\"\u001b[39m)\n\u001b[0;32m   1370\u001b[0m \u001b[38;5;28;01mif\u001b[39;00m \u001b[38;5;28mself\u001b[39m\u001b[38;5;241m.\u001b[39mdebug \u001b[38;5;241m>\u001b[39m \u001b[38;5;241m1\u001b[39m:\n\u001b[0;32m   1371\u001b[0m     \u001b[38;5;28mprint\u001b[39m(endrec)\n",
      "\u001b[1;31mBadZipFile\u001b[0m: File is not a zip file"
     ]
    }
   ],
   "source": [
    "images_train, labels_train = emnist.extract_training_samples('balanced')\n",
    "images_test, labels_test = emnist.extract_test_samples('balanced')\n",
    "print(f'Train: {...} samples')\n",
    "print(f'Test: {...} samples')\n",
    "print(f'Image size: {...}')"
   ]
  },
  {
   "cell_type": "code",
   "execution_count": null,
   "id": "ec1c7a6d",
   "metadata": {
    "id": "ec1c7a6d"
   },
   "outputs": [],
   "source": [
    "# your code here"
   ]
  },
  {
   "cell_type": "markdown",
   "id": "44aa75fc",
   "metadata": {
    "id": "44aa75fc"
   },
   "source": [
    "### 3. Подготовьте датасет для обучения и валидации\n",
    "\n",
    "_Подсказка: чтобы вытянуть изображения в вектор, понадобится метод_ `reshape` _из библиотеки_ `numpy`."
   ]
  },
  {
   "cell_type": "code",
   "execution_count": null,
   "id": "59e4e4e1",
   "metadata": {
    "id": "59e4e4e1"
   },
   "outputs": [],
   "source": [
    "X_train = ...\n",
    "y_train = ...\n",
    "X_test = ...\n",
    "y_test = ...\n",
    "\n",
    "print('Train:', X_train.shape)\n",
    "print('Test:', X_test.shape)"
   ]
  },
  {
   "cell_type": "markdown",
   "id": "018140da",
   "metadata": {
    "id": "018140da"
   },
   "source": [
    "### 4. Выберите модель, обучите её, протестируйте и сохраните\n",
    "\n",
    "Выведите на экран точность вашей модели. Выведите и проанализируйте матрицу ошибок. Какие два символа она чаще всего путает? На каком символе модель чаще всего ошибается?"
   ]
  },
  {
   "cell_type": "code",
   "execution_count": null,
   "id": "6a0e5239",
   "metadata": {
    "id": "6a0e5239"
   },
   "outputs": [],
   "source": [
    "clf = ...\n",
    "# your code here"
   ]
  },
  {
   "cell_type": "code",
   "execution_count": null,
   "id": "e66ef38a",
   "metadata": {
    "id": "e66ef38a"
   },
   "outputs": [],
   "source": [
    "with open(os.path.join('myapp', 'model.pkl'),'wb') as f:\n",
    "    pickle.dump(clf, f)"
   ]
  }
 ],
 "metadata": {
  "colab": {
   "provenance": []
  },
  "kernelspec": {
   "display_name": "Python 3 (ipykernel)",
   "language": "python",
   "name": "python3"
  },
  "language_info": {
   "codemirror_mode": {
    "name": "ipython",
    "version": 3
   },
   "file_extension": ".py",
   "mimetype": "text/x-python",
   "name": "python",
   "nbconvert_exporter": "python",
   "pygments_lexer": "ipython3",
   "version": "3.11.7"
  }
 },
 "nbformat": 4,
 "nbformat_minor": 5
}
